{
 "cells": [
  {
   "cell_type": "markdown",
   "metadata": {},
   "source": [
    "# 3.0 How to expedite the training (removing bottleneck due to filesize / memory issue)"
   ]
  },
  {
   "cell_type": "code",
   "execution_count": 9,
   "metadata": {},
   "outputs": [],
   "source": [
    "%reload_ext autoreload\n",
    "%autoreload 2\n",
    "%matplotlib inline"
   ]
  },
  {
   "cell_type": "code",
   "execution_count": 10,
   "metadata": {},
   "outputs": [],
   "source": [
    "import os\n",
    "import warnings\n",
    "import pandas as pd\n",
    "import numpy as np\n",
    "from matplotlib import pyplot as plt\n",
    "\n",
    "import joblib \n",
    "from tqdm import tqdm\n",
    "\n",
    "warnings.simplefilter('ignore')\n",
    "pd.set_option('max_columns', 100)\n",
    "pd.set_option(\"display.precision\", 4)"
   ]
  },
  {
   "cell_type": "code",
   "execution_count": 11,
   "metadata": {},
   "outputs": [],
   "source": [
    "# YOUR PATH\n",
    "path = f'/mnt/c/Users/bokhy/Desktop/Python/github/kaggle/bengaliai-cv19/input/'"
   ]
  },
  {
   "cell_type": "code",
   "execution_count": 12,
   "metadata": {},
   "outputs": [],
   "source": [
    "# [MUST] Create folder to contain all images\n",
    "# !mkdir ../train_images"
   ]
  },
  {
   "cell_type": "code",
   "execution_count": 13,
   "metadata": {},
   "outputs": [
    {
     "name": "stdout",
     "output_type": "stream",
     "text": [
      "class_map.csv\t\t test_image_data_0.parquet   train_image_data_1.parquet\n",
      "class_map_corrected.csv  test_image_data_1.parquet   train_image_data_2.parquet\n",
      "df_folds.csv\t\t test_image_data_2.parquet   train_image_data_3.parquet\n",
      "notebook\t\t test_image_data_3.parquet   train_images\n",
      "sample_submission.csv\t train.csv\t\t     train_multi_diacritics.csv\n",
      "test.csv\t\t train_image_data_0.parquet\n"
     ]
    }
   ],
   "source": [
    "!ls .."
   ]
  },
  {
   "cell_type": "code",
   "execution_count": null,
   "metadata": {},
   "outputs": [],
   "source": [
    "# We can't load each of the rows in each parquet file everytime we train. \n",
    "# An efficient way is to read once and save in readable/writable file using pickle"
   ]
  },
  {
   "cell_type": "code",
   "execution_count": 15,
   "metadata": {},
   "outputs": [
    {
     "name": "stderr",
     "output_type": "stream",
     "text": [
      "100%|██████████| 50210/50210 [15:13<00:00, 54.95it/s]  \n",
      "100%|██████████| 50210/50210 [19:35<00:00, 42.72it/s]  \n",
      "100%|██████████| 50210/50210 [17:10<00:00, 48.74it/s] \n",
      "100%|██████████| 50210/50210 [19:14<00:00, 43.48it/s]  \n"
     ]
    }
   ],
   "source": [
    "files_train = [f'/mnt/c/Users/bokhy/Desktop/Python/github/kaggle/bengaliai-cv19/input/train_image_data_{imid}.parquet' for imid in range(4)]\n",
    "\n",
    "for fname in files_train:\n",
    "    # Read all four train_image_data parquet files\n",
    "    df_train = pd.read_parquet(fname, engine = 'fastparquet')\n",
    "    \n",
    "    # Each row with image_id indicates each image (in pixels)\n",
    "    # So we will separate each of the row and iterate it for more efficient data loading\n",
    "    \n",
    "    # To do so, we change the pandas dataset to numpy array to speed things up\n",
    "    img_ids = df_train['image_id'].values\n",
    "    img_array = df_train.iloc[:, 1:].values\n",
    "    \n",
    "    # Save the ids and arrays into Python pickle file\n",
    "    for idx in tqdm(range(len(df_train))):\n",
    "        img_id = img_ids[idx]\n",
    "        img = img_array[idx]\n",
    "        joblib.dump(img, f'/mnt/c/Users/bokhy/Desktop/Python/github/kaggle/bengaliai-cv19/input/train_images/{img_id}.pkl')"
   ]
  }
 ],
 "metadata": {
  "kernelspec": {
   "display_name": "Python 3",
   "language": "python",
   "name": "python3"
  },
  "language_info": {
   "codemirror_mode": {
    "name": "ipython",
    "version": 3
   },
   "file_extension": ".py",
   "mimetype": "text/x-python",
   "name": "python",
   "nbconvert_exporter": "python",
   "pygments_lexer": "ipython3",
   "version": "3.8.5"
  }
 },
 "nbformat": 4,
 "nbformat_minor": 4
}
